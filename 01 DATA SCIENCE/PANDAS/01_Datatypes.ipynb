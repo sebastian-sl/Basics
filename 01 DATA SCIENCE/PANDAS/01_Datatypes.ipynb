{
 "cells": [
  {
   "cell_type": "code",
   "execution_count": 46,
   "id": "e9ddbed3-b30e-41de-b567-d849a1342b3a",
   "metadata": {},
   "outputs": [],
   "source": [
    "import pandas as pd"
   ]
  },
  {
   "cell_type": "code",
   "execution_count": 47,
   "id": "8e03d605-618f-4875-8d93-b179ecc9a61c",
   "metadata": {},
   "outputs": [
    {
     "name": "stdout",
     "output_type": "stream",
     "text": [
      "   id   name\n",
      "0   1  Peter\n",
      "1   2    Tim\n",
      "2   3    Zoe\n",
      "3   4  Julia\n",
      "4   5   Hans\n"
     ]
    }
   ],
   "source": [
    "# DataFrame\n",
    "# Dataframes are the bread and butter of Pandas. They are two-dimensional labeled data structures. You can think of them as a spreadsheet or SQL table.\n",
    "\n",
    "df = pd.DataFrame({\n",
    "    \"id\": [1, 2, 3, 4, 5],\n",
    "    \"name\": [\"Peter\", \"Tim\", \"Zoe\", \"Julia\", \"Hans\"]\n",
    "})\n",
    "\n",
    "print(df)"
   ]
  },
  {
   "cell_type": "code",
   "execution_count": 48,
   "id": "083894b2-ffce-489b-a3a4-59e5be6c8d08",
   "metadata": {},
   "outputs": [
    {
     "name": "stdout",
     "output_type": "stream",
     "text": [
      "P    Peter\n",
      "T      Tim\n",
      "Z      Zoe\n",
      "J    Julia\n",
      "H     Hans\n",
      "Name: name, dtype: object\n"
     ]
    }
   ],
   "source": [
    "# Series\n",
    "# A series is a one-dimensional array that can hold any data types where the axis labels are referred as index.\n",
    "\n",
    "series = pd.Series(\n",
    "    [\"Peter\", \"Tim\", \"Zoe\", \"Julia\", \"Hans\"], \n",
    "    index=[\"P\", \"T\", \"Z\", \"J\", \"H\"],\n",
    "    name=\"name\")\n",
    "\n",
    "print(series)"
   ]
  },
  {
   "cell_type": "code",
   "execution_count": 49,
   "id": "7f45bb51-886b-4e9a-9752-90cfe8d84339",
   "metadata": {},
   "outputs": [
    {
     "name": "stdout",
     "output_type": "stream",
     "text": [
      "0    Peter\n",
      "1      Tim\n",
      "2      Zoe\n",
      "3    Julia\n",
      "4     Hans\n",
      "Name: name, dtype: object\n",
      "<class 'pandas.core.series.Series'>\n"
     ]
    }
   ],
   "source": [
    "# We can freely convert series to dataframes and vice versa!\n",
    "\n",
    "# DF to Series\n",
    "series = pd.Series(df.name)\n",
    "print(series)\n",
    "print(type(series))"
   ]
  },
  {
   "cell_type": "code",
   "execution_count": 50,
   "id": "a3c162e6-7621-4e68-a5eb-d4346987dd1c",
   "metadata": {},
   "outputs": [
    {
     "name": "stdout",
     "output_type": "stream",
     "text": [
      "    name\n",
      "0  Peter\n",
      "1    Tim\n",
      "2    Zoe\n",
      "3  Julia\n",
      "4   Hans\n"
     ]
    }
   ],
   "source": [
    "# Series to DF\n",
    "df = series.to_frame()\n",
    "print(df)"
   ]
  }
 ],
 "metadata": {
  "kernelspec": {
   "display_name": "Python 3",
   "language": "python",
   "name": "python3"
  },
  "language_info": {
   "codemirror_mode": {
    "name": "ipython",
    "version": 3
   },
   "file_extension": ".py",
   "mimetype": "text/x-python",
   "name": "python",
   "nbconvert_exporter": "python",
   "pygments_lexer": "ipython3",
   "version": "3.10.2"
  }
 },
 "nbformat": 4,
 "nbformat_minor": 5
}
