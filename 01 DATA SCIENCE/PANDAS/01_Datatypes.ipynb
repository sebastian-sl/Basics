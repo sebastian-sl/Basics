{
 "cells": [
  {
   "cell_type": "code",
   "execution_count": 1,
   "id": "e9ddbed3-b30e-41de-b567-d849a1342b3a",
   "metadata": {},
   "outputs": [],
   "source": [
    "import pandas as pd"
   ]
  },
  {
   "cell_type": "markdown",
   "id": "c487cd49-906d-43b6-af63-475e6ab9b2bb",
   "metadata": {
    "tags": []
   },
   "source": [
    "# DataFrames\n",
    "Dataframes are the bread and butter of Pandas. They are two-dimensional labeled data structures. You can think of them as a spreadsheet or SQL table."
   ]
  },
  {
   "cell_type": "code",
   "execution_count": 2,
   "id": "083894b2-ffce-489b-a3a4-59e5be6c8d08",
   "metadata": {},
   "outputs": [
    {
     "name": "stdout",
     "output_type": "stream",
     "text": [
      "   id   name\n",
      "0   1  Peter\n",
      "1   2    Tim\n",
      "2   3    Zoe\n",
      "3   4  Julia\n",
      "4   5   Hans\n",
      "<class 'pandas.core.frame.DataFrame'>\n"
     ]
    }
   ],
   "source": [
    "# Create a Dataframe\n",
    "df = pd.DataFrame({\n",
    "    \"id\": [1, 2, 3, 4, 5],\n",
    "    \"name\": [\"Peter\", \"Tim\", \"Zoe\", \"Julia\", \"Hans\"]\n",
    "})\n",
    "\n",
    "print(df)\n",
    "print(type(df))"
   ]
  },
  {
   "cell_type": "markdown",
   "id": "b10372ea-559a-416b-8cd4-ff6482e2af7d",
   "metadata": {},
   "source": [
    "# Series\n",
    "A series is a one-dimensional array where the axis labels are referred as index. You can think of them as a single column/row of a Dataframe."
   ]
  },
  {
   "cell_type": "code",
   "execution_count": 3,
   "id": "7f45bb51-886b-4e9a-9752-90cfe8d84339",
   "metadata": {},
   "outputs": [
    {
     "name": "stdout",
     "output_type": "stream",
     "text": [
      "1    Peter\n",
      "2      Tim\n",
      "3      Zoe\n",
      "Name: name, dtype: object\n",
      "<class 'pandas.core.series.Series'>\n"
     ]
    }
   ],
   "source": [
    "series = pd.Series([\"Peter\", \"Tim\", \"Zoe\"], index = [1, 2, 3], name=\"name\")\n",
    "print(series)\n",
    "print(type(series))"
   ]
  },
  {
   "cell_type": "markdown",
   "id": "db167b3b-d5ee-409e-9a57-760f08ac00f6",
   "metadata": {},
   "source": [
    "# Series ---> DataFrame"
   ]
  },
  {
   "cell_type": "markdown",
   "id": "94ffddd3-84a4-4019-8716-24506ec44dde",
   "metadata": {},
   "source": [
    "#### Index as stand-alone column"
   ]
  },
  {
   "cell_type": "code",
   "execution_count": 4,
   "id": "80ebc00f-6561-4780-af6c-2e382c6a3c0d",
   "metadata": {},
   "outputs": [],
   "source": [
    "new_df = series.to_frame().reset_index()\n",
    "new_df = new_df.rename(columns={\"index\": \"id\"})"
   ]
  },
  {
   "cell_type": "markdown",
   "id": "9b771e50-47b7-4fea-9833-36de72dbea7e",
   "metadata": {
    "jp-MarkdownHeadingCollapsed": true,
    "tags": []
   },
   "source": [
    "![convert1](img/convert1.png)"
   ]
  },
  {
   "cell_type": "markdown",
   "id": "5d07acc7-27ba-467d-97a6-2b1e54984e07",
   "metadata": {},
   "source": [
    "#### Index values as multiple columns"
   ]
  },
  {
   "cell_type": "code",
   "execution_count": 5,
   "id": "f0bd876a-0666-408a-8aca-0e25b6d84470",
   "metadata": {},
   "outputs": [],
   "source": [
    "new_df = series.to_frame().T"
   ]
  },
  {
   "cell_type": "markdown",
   "id": "7e18aa7c-e317-400e-8878-2036ff69e862",
   "metadata": {},
   "source": [
    "![convert2](img/convert2.png)"
   ]
  },
  {
   "cell_type": "markdown",
   "id": "1450b470-0ac3-4195-a3ee-2831c7448338",
   "metadata": {},
   "source": [
    "# DataFrame ---> Series"
   ]
  },
  {
   "cell_type": "markdown",
   "id": "5a6cd98f-45f0-476b-9f43-83fe854b08a9",
   "metadata": {},
   "source": [
    "#### single column"
   ]
  },
  {
   "cell_type": "code",
   "execution_count": 6,
   "id": "c9f93bd3-f33c-4c74-8c9d-4634193c1385",
   "metadata": {},
   "outputs": [],
   "source": [
    "new_series = df.name"
   ]
  },
  {
   "cell_type": "markdown",
   "id": "c10f3f58-c619-4a26-a52f-858ce6287ad3",
   "metadata": {},
   "source": [
    "![convert3](img/convert3.png)"
   ]
  },
  {
   "cell_type": "markdown",
   "id": "eca8dda2-b153-4439-8839-68bfe414cecd",
   "metadata": {},
   "source": [
    "#### single row"
   ]
  },
  {
   "cell_type": "code",
   "execution_count": 7,
   "id": "ad672a77-be90-43f2-b025-ba47fda736f2",
   "metadata": {},
   "outputs": [],
   "source": [
    "# Need to filter out one row!\n",
    "new_series = df[df[\"name\"] == \"Tim\"].squeeze()"
   ]
  },
  {
   "cell_type": "markdown",
   "id": "b6e2447b-c724-4558-a745-888dcfdefa6d",
   "metadata": {},
   "source": [
    "![convert4](img/convert4.png)"
   ]
  }
 ],
 "metadata": {
  "kernelspec": {
   "display_name": "Python 3",
   "language": "python",
   "name": "python3"
  },
  "language_info": {
   "codemirror_mode": {
    "name": "ipython",
    "version": 3
   },
   "file_extension": ".py",
   "mimetype": "text/x-python",
   "name": "python",
   "nbconvert_exporter": "python",
   "pygments_lexer": "ipython3",
   "version": "3.10.2"
  }
 },
 "nbformat": 4,
 "nbformat_minor": 5
}
