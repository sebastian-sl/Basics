{
 "cells": [
  {
   "cell_type": "code",
   "execution_count": 1,
   "id": "475c23af-70d5-4f5c-a93f-60316fc605aa",
   "metadata": {},
   "outputs": [
    {
     "data": {
      "text/html": [
       "<div>\n",
       "<style scoped>\n",
       "    .dataframe tbody tr th:only-of-type {\n",
       "        vertical-align: middle;\n",
       "    }\n",
       "\n",
       "    .dataframe tbody tr th {\n",
       "        vertical-align: top;\n",
       "    }\n",
       "\n",
       "    .dataframe thead th {\n",
       "        text-align: right;\n",
       "    }\n",
       "</style>\n",
       "<table border=\"1\" class=\"dataframe\">\n",
       "  <thead>\n",
       "    <tr style=\"text-align: right;\">\n",
       "      <th></th>\n",
       "      <th>id</th>\n",
       "      <th>first_name</th>\n",
       "      <th>last_name</th>\n",
       "      <th>age</th>\n",
       "      <th>value</th>\n",
       "    </tr>\n",
       "  </thead>\n",
       "  <tbody>\n",
       "    <tr>\n",
       "      <th>0</th>\n",
       "      <td>1</td>\n",
       "      <td>Kylian</td>\n",
       "      <td>Mbappe</td>\n",
       "      <td>23</td>\n",
       "      <td>160000000</td>\n",
       "    </tr>\n",
       "    <tr>\n",
       "      <th>1</th>\n",
       "      <td>2</td>\n",
       "      <td>Erling</td>\n",
       "      <td>Haaland</td>\n",
       "      <td>21</td>\n",
       "      <td>150000000</td>\n",
       "    </tr>\n",
       "    <tr>\n",
       "      <th>2</th>\n",
       "      <td>3</td>\n",
       "      <td>Vinicius</td>\n",
       "      <td>Junior</td>\n",
       "      <td>21</td>\n",
       "      <td>100000000</td>\n",
       "    </tr>\n",
       "    <tr>\n",
       "      <th>3</th>\n",
       "      <td>4</td>\n",
       "      <td>Mohamed</td>\n",
       "      <td>Salah</td>\n",
       "      <td>29</td>\n",
       "      <td>100000000</td>\n",
       "    </tr>\n",
       "    <tr>\n",
       "      <th>4</th>\n",
       "      <td>5</td>\n",
       "      <td>Harry</td>\n",
       "      <td>Kane</td>\n",
       "      <td>28</td>\n",
       "      <td>100000000</td>\n",
       "    </tr>\n",
       "    <tr>\n",
       "      <th>5</th>\n",
       "      <td>6</td>\n",
       "      <td>Romelu</td>\n",
       "      <td>Lukaku</td>\n",
       "      <td>28</td>\n",
       "      <td>100000000</td>\n",
       "    </tr>\n",
       "    <tr>\n",
       "      <th>6</th>\n",
       "      <td>7</td>\n",
       "      <td>Bruno</td>\n",
       "      <td>Fernandes</td>\n",
       "      <td>27</td>\n",
       "      <td>90000000</td>\n",
       "    </tr>\n",
       "    <tr>\n",
       "      <th>7</th>\n",
       "      <td>8</td>\n",
       "      <td>Kevin</td>\n",
       "      <td>De Bruyne</td>\n",
       "      <td>30</td>\n",
       "      <td>90000000</td>\n",
       "    </tr>\n",
       "    <tr>\n",
       "      <th>8</th>\n",
       "      <td>9</td>\n",
       "      <td>Neymar</td>\n",
       "      <td>Junior</td>\n",
       "      <td>30</td>\n",
       "      <td>90000000</td>\n",
       "    </tr>\n",
       "    <tr>\n",
       "      <th>9</th>\n",
       "      <td>10</td>\n",
       "      <td>Phil</td>\n",
       "      <td>Foden</td>\n",
       "      <td>21</td>\n",
       "      <td>85000000</td>\n",
       "    </tr>\n",
       "  </tbody>\n",
       "</table>\n",
       "</div>"
      ],
      "text/plain": [
       "   id first_name  last_name  age      value\n",
       "0   1     Kylian     Mbappe   23  160000000\n",
       "1   2     Erling    Haaland   21  150000000\n",
       "2   3   Vinicius     Junior   21  100000000\n",
       "3   4    Mohamed      Salah   29  100000000\n",
       "4   5      Harry       Kane   28  100000000\n",
       "5   6     Romelu     Lukaku   28  100000000\n",
       "6   7      Bruno  Fernandes   27   90000000\n",
       "7   8      Kevin  De Bruyne   30   90000000\n",
       "8   9     Neymar     Junior   30   90000000\n",
       "9  10       Phil      Foden   21   85000000"
      ]
     },
     "execution_count": 1,
     "metadata": {},
     "output_type": "execute_result"
    }
   ],
   "source": [
    "import pandas as pd\n",
    "import numpy as np\n",
    "import os\n",
    "\n",
    "fp = os.getcwd()\n",
    "\n",
    "df = pd.read_csv(fp + r\"\\data\\Input\\transfermarkt_values.csv\", sep=\";\") \n",
    "del df[\"Unnamed: 5\"]\n",
    "\n",
    "df"
   ]
  },
  {
   "cell_type": "markdown",
   "id": "b1d64ea7-5287-4b17-9cbc-3379fbbfed3f",
   "metadata": {
    "tags": []
   },
   "source": [
    "# Selecting Data\n",
    "\n",
    "In this chapter, we want to access a subset of the DataFrame to either print, access or change the values of the subset. There are multiple ways to achieve the filtering to get the subset. They are quite overlapping, for example loc/iloc (see 3) can be used for the first two tasks aswell, but they lack a bit of performance, are a bit more verbose in syntax and aren't officially recommended for these tasks by the pandas documentation. Thats the reason, why im showing the official way of filtering data.\n",
    "\n",
    "\n",
    "*Source:* https://pandas.pydata.org/docs/getting_started/intro_tutorials/03_subset_data.html\n",
    "\n",
    "\n",
    "## 1) Specific columns (all rows)\n",
    "\n",
    "![05_column](img/05_column.png)\n",
    "\n",
    "<code> df[column(s)] </code>\n",
    "* column name, list of column names, all (:)\n",
    "* return type solely depends on the amount of columns (1 = Series, >1 = DataFrame)\n",
    "\n",
    "<br>\n",
    "\n",
    "#### Create new col"
   ]
  },
  {
   "cell_type": "code",
   "execution_count": 2,
   "id": "ca310b72-979a-4b7d-b244-baf2844e0858",
   "metadata": {
    "tags": []
   },
   "outputs": [],
   "source": [
    "# by array\n",
    "df[\"age_new\"] = [50, 50, 50, 50, 50, 45, 45, 45, 45, 45]\n",
    "\n",
    "# by another column\n",
    "df[\"age_copy\"] = df[\"age\"]"
   ]
  },
  {
   "cell_type": "markdown",
   "id": "d12e3908-8483-4078-95fe-b15ffa6b4b4e",
   "metadata": {
    "tags": []
   },
   "source": [
    "#### Read"
   ]
  },
  {
   "cell_type": "code",
   "execution_count": 3,
   "id": "064f922f-e359-45b3-93ff-e6a15163056c",
   "metadata": {
    "tags": []
   },
   "outputs": [],
   "source": [
    "# single column\n",
    "subset = df[\"age\"]\n",
    "\n",
    "# multiple columns\n",
    "subset = df[[\"age\", \"last_name\"]]"
   ]
  },
  {
   "cell_type": "markdown",
   "id": "53366e7d-1611-48c5-94fa-3ea6de12a35a",
   "metadata": {
    "tags": []
   },
   "source": [
    "#### Update (same as create)"
   ]
  },
  {
   "cell_type": "code",
   "execution_count": 4,
   "id": "84b4387c-7f12-4c8a-bc8c-7154d01fe506",
   "metadata": {
    "tags": []
   },
   "outputs": [],
   "source": [
    "# by array\n",
    "df[\"age_new\"] = [50, 50, 50, 50, 50, 45, 45, 45, 45, 45]\n",
    "\n",
    "# by another column\n",
    "df[\"age_copy\"] = df[\"age\"]"
   ]
  },
  {
   "cell_type": "markdown",
   "id": "d99e07a6-1710-45eb-a60f-3f18c6a00e3b",
   "metadata": {
    "tags": []
   },
   "source": [
    "#### Delete"
   ]
  },
  {
   "cell_type": "code",
   "execution_count": 5,
   "id": "7f8e33fd-2819-4c53-a341-de25978febd0",
   "metadata": {
    "tags": []
   },
   "outputs": [],
   "source": [
    "del df[\"age_copy\"]\n",
    "del df[\"age_new\"]"
   ]
  },
  {
   "cell_type": "markdown",
   "id": "c95b4c26-e91b-4ab9-9689-5b9ed8d89f1e",
   "metadata": {
    "tags": []
   },
   "source": [
    "## 2) Specific rows\n",
    "\n",
    "When specifying rows, there are multiple ways to do it, like basic df [condition] notation, df.iloc [row index, col index] or df.loc[condition, col]. The first one is best perfomance wise, but can't perform all CRUD operations. iloc can be useful at some points, for example when iterating, but i think the most natural way to filter the data is to use df.loc[ ] with the columns named by name.\n",
    "\n",
    "![05_conditional](img/05_conditional.png)\n",
    "\n",
    "<code> df.loc[condition] </code>\n",
    "* condition, index or all (:)\n",
    "* return type depends on amount of columns (1 -> Series, more -> DF)\n",
    "\n",
    "<br>\n",
    "\n",
    "#### Create new row"
   ]
  },
  {
   "cell_type": "code",
   "execution_count": 6,
   "id": "656a091c-5e51-4a5b-90ec-f074daae29bb",
   "metadata": {
    "tags": []
   },
   "outputs": [],
   "source": [
    "# accessing by index to create new row at the end\n",
    "df.loc[11, :] = [11, \"Jadon\", \"Sancho\", 21, 85000000]"
   ]
  },
  {
   "cell_type": "markdown",
   "id": "25cb2cef-8ab5-43ca-b5f4-172b9da8b493",
   "metadata": {
    "tags": []
   },
   "source": [
    "#### Read"
   ]
  },
  {
   "cell_type": "code",
   "execution_count": 7,
   "id": "4308bd98-c645-4b56-91ea-e185ec005dc0",
   "metadata": {
    "tags": []
   },
   "outputs": [],
   "source": [
    "# conditional selection (one column -> Series)\n",
    "subset = df.loc[df[\"age\"] < 23, \"first_name\"]\n",
    "\n",
    "# index selection (all columns -> DataFrame)\n",
    "subset = df.loc[[2, 3, 5], :]"
   ]
  },
  {
   "cell_type": "markdown",
   "id": "64400ed7-a287-42d5-8d7f-b70b1bae99d9",
   "metadata": {
    "tags": []
   },
   "source": [
    "#### Update"
   ]
  },
  {
   "cell_type": "code",
   "execution_count": 8,
   "id": "85229729-a995-4c2a-a589-4328f05dcfba",
   "metadata": {
    "tags": []
   },
   "outputs": [],
   "source": [
    "# updating one value of one row with multiple conditions \n",
    "df.loc[(df[\"age\"] > 23) & (df[\"age\"] < 28), \"value\"] = 91000000"
   ]
  },
  {
   "cell_type": "markdown",
   "id": "fa030b70-8cf1-4321-80f8-2189dcce7e79",
   "metadata": {
    "tags": []
   },
   "source": [
    "#### Delete"
   ]
  },
  {
   "cell_type": "code",
   "execution_count": 9,
   "id": "98752b4e-4123-425c-995e-8b1286446673",
   "metadata": {
    "tags": []
   },
   "outputs": [],
   "source": [
    "# To delete we need to use df.drop combined with df.loc (loc to get the index)\n",
    "df = df.drop(df.loc[df[\"first_name\"] == \"Jadon\"].index)"
   ]
  },
  {
   "cell_type": "markdown",
   "id": "f1c28cd1-b38e-465f-be89-b8a58f7fffcf",
   "metadata": {
    "tags": []
   },
   "source": [
    "# Iteration\n",
    "Before showing how to iterate by columns or by row, i want to note that iterating over a DataFrame isn't optimal. It is better to filter the DataFrame like shown before and use vectoritation with functions, new values etc. Anyway, in some rare cases it is helpful to iterate and thats why im showing it here.\n",
    "\n",
    "## Iterate by column\n",
    "\n",
    "![05_iterate_by_col](img/05_iterate_by_col.png)"
   ]
  },
  {
   "cell_type": "code",
   "execution_count": 10,
   "id": "fe7efa4f-739f-447f-a603-a8cd4eb381e3",
   "metadata": {},
   "outputs": [
    {
     "name": "stdout",
     "output_type": "stream",
     "text": [
      "id [ 1.  2.  3.  4.  5.  6.  7.  8.  9. 10.]\n",
      "first_name ['Kylian' 'Erling' 'Vinicius' 'Mohamed' 'Harry' 'Romelu' 'Bruno' 'Kevin'\n",
      " 'Neymar' 'Phil']\n",
      "last_name ['Mbappe' 'Haaland' 'Junior' 'Salah' 'Kane' 'Lukaku' 'Fernandes'\n",
      " 'De Bruyne' 'Junior' 'Foden']\n",
      "age [23. 21. 21. 29. 28. 28. 27. 30. 30. 21.]\n",
      "value [1.6e+08 1.5e+08 1.0e+08 1.0e+08 1.0e+08 1.0e+08 9.1e+07 9.0e+07 9.0e+07\n",
      " 8.5e+07]\n"
     ]
    }
   ],
   "source": [
    "# returns each column as Series, values can be accessed with .values as an array \n",
    "for key, value in df.iteritems():\n",
    "    print(key, value.values)"
   ]
  },
  {
   "cell_type": "markdown",
   "id": "5d966652-3626-49b4-993d-2e269290a9c2",
   "metadata": {},
   "source": [
    "## Iterate by column\n",
    "\n",
    "![05_iterate_by_row](img/05_iterate_by_row.png)"
   ]
  },
  {
   "cell_type": "code",
   "execution_count": 11,
   "id": "16d6e1c5-97da-4127-85a8-3ccd8b7ad683",
   "metadata": {},
   "outputs": [
    {
     "name": "stdout",
     "output_type": "stream",
     "text": [
      "0 [1.0 'Kylian' 'Mbappe' 23.0 160000000.0]\n",
      "1 [2.0 'Erling' 'Haaland' 21.0 150000000.0]\n",
      "2 [3.0 'Vinicius' 'Junior' 21.0 100000000.0]\n",
      "3 [4.0 'Mohamed' 'Salah' 29.0 100000000.0]\n",
      "4 [5.0 'Harry' 'Kane' 28.0 100000000.0]\n",
      "5 [6.0 'Romelu' 'Lukaku' 28.0 100000000.0]\n",
      "6 [7.0 'Bruno' 'Fernandes' 27.0 91000000.0]\n",
      "7 [8.0 'Kevin' 'De Bruyne' 30.0 90000000.0]\n",
      "8 [9.0 'Neymar' 'Junior' 30.0 90000000.0]\n",
      "9 [10.0 'Phil' 'Foden' 21.0 85000000.0]\n"
     ]
    }
   ],
   "source": [
    "# returns each row as Series, values can be accessed with .values as an array \n",
    "for key, value in df.iterrows():\n",
    "    print(key, value.values)"
   ]
  },
  {
   "cell_type": "code",
   "execution_count": null,
   "id": "8fecd422-5064-4bbe-a87d-57c961811172",
   "metadata": {},
   "outputs": [],
   "source": []
  }
 ],
 "metadata": {
  "kernelspec": {
   "display_name": "Python 3",
   "language": "python",
   "name": "python3"
  },
  "language_info": {
   "codemirror_mode": {
    "name": "ipython",
    "version": 3
   },
   "file_extension": ".py",
   "mimetype": "text/x-python",
   "name": "python",
   "nbconvert_exporter": "python",
   "pygments_lexer": "ipython3",
   "version": "3.10.2"
  }
 },
 "nbformat": 4,
 "nbformat_minor": 5
}
