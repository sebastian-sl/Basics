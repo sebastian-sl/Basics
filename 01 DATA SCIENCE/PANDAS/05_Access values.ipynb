{
 "cells": [
  {
   "cell_type": "code",
   "execution_count": 1,
   "id": "475c23af-70d5-4f5c-a93f-60316fc605aa",
   "metadata": {},
   "outputs": [
    {
     "data": {
      "text/html": [
       "<div>\n",
       "<style scoped>\n",
       "    .dataframe tbody tr th:only-of-type {\n",
       "        vertical-align: middle;\n",
       "    }\n",
       "\n",
       "    .dataframe tbody tr th {\n",
       "        vertical-align: top;\n",
       "    }\n",
       "\n",
       "    .dataframe thead th {\n",
       "        text-align: right;\n",
       "    }\n",
       "</style>\n",
       "<table border=\"1\" class=\"dataframe\">\n",
       "  <thead>\n",
       "    <tr style=\"text-align: right;\">\n",
       "      <th></th>\n",
       "      <th>id</th>\n",
       "      <th>first_name</th>\n",
       "      <th>last_name</th>\n",
       "      <th>age</th>\n",
       "      <th>value</th>\n",
       "    </tr>\n",
       "  </thead>\n",
       "  <tbody>\n",
       "    <tr>\n",
       "      <th>0</th>\n",
       "      <td>1</td>\n",
       "      <td>Kylian</td>\n",
       "      <td>Mbappe</td>\n",
       "      <td>23</td>\n",
       "      <td>160000000</td>\n",
       "    </tr>\n",
       "    <tr>\n",
       "      <th>1</th>\n",
       "      <td>2</td>\n",
       "      <td>Erling</td>\n",
       "      <td>Haaland</td>\n",
       "      <td>21</td>\n",
       "      <td>150000000</td>\n",
       "    </tr>\n",
       "    <tr>\n",
       "      <th>2</th>\n",
       "      <td>3</td>\n",
       "      <td>Vinicius</td>\n",
       "      <td>Junior</td>\n",
       "      <td>21</td>\n",
       "      <td>100000000</td>\n",
       "    </tr>\n",
       "  </tbody>\n",
       "</table>\n",
       "</div>"
      ],
      "text/plain": [
       "   id first_name last_name  age      value\n",
       "0   1     Kylian    Mbappe   23  160000000\n",
       "1   2     Erling   Haaland   21  150000000\n",
       "2   3   Vinicius    Junior   21  100000000"
      ]
     },
     "execution_count": 1,
     "metadata": {},
     "output_type": "execute_result"
    }
   ],
   "source": [
    "import pandas as pd\n",
    "import numpy as np\n",
    "import os\n",
    "\n",
    "fp = os.getcwd()\n",
    "\n",
    "df = pd.read_csv(fp + r\"\\data\\Input\\transfermarkt_values.csv\", sep=\";\") \n",
    "del df[\"Unnamed: 5\"]\n",
    "\n",
    "df.head(3)"
   ]
  },
  {
   "cell_type": "markdown",
   "id": "b1d64ea7-5287-4b17-9cbc-3379fbbfed3f",
   "metadata": {
    "tags": []
   },
   "source": [
    "# Selecting Data\n",
    "\n",
    "In this chapter, we want to access a subset of the DataFrame to perform CRUD operations. There are multiple ways to filter the Dataframe which are quite overlapping. I will show my preferred way of filtering the dataframe with df[col] and df.loc[].\n",
    "\n",
    "## 1) Specific columns (all rows)\n",
    "\n",
    "![05_column](img/05_column.png)\n",
    "\n",
    "<code> df[column(s)] </code>\n",
    "* column name, list of column names, all (:)\n",
    "* return type solely depends on the amount of columns (1 = Series, >1 = DataFrame)\n",
    "\n",
    "#### Create new col"
   ]
  },
  {
   "cell_type": "code",
   "execution_count": 2,
   "id": "ca310b72-979a-4b7d-b244-baf2844e0858",
   "metadata": {
    "tags": []
   },
   "outputs": [],
   "source": [
    "# by array or another column\n",
    "df[\"age_new\"] = [50, 50, 50, 50, 50, 45, 45, 45, 45, 45]"
   ]
  },
  {
   "cell_type": "markdown",
   "id": "d12e3908-8483-4078-95fe-b15ffa6b4b4e",
   "metadata": {
    "tags": []
   },
   "source": [
    "#### Read"
   ]
  },
  {
   "cell_type": "code",
   "execution_count": 11,
   "id": "064f922f-e359-45b3-93ff-e6a15163056c",
   "metadata": {
    "tags": []
   },
   "outputs": [],
   "source": [
    "# single column (returns Series - use .values for array of values)\n",
    "subset= df[\"age\"]\n",
    "\n",
    "# multiple columns (returns new dataframe)\n",
    "subset = df[[\"age\", \"last_name\"]]"
   ]
  },
  {
   "cell_type": "markdown",
   "id": "53366e7d-1611-48c5-94fa-3ea6de12a35a",
   "metadata": {
    "tags": []
   },
   "source": [
    "#### Update (same as create)"
   ]
  },
  {
   "cell_type": "code",
   "execution_count": 12,
   "id": "84b4387c-7f12-4c8a-bc8c-7154d01fe506",
   "metadata": {
    "tags": []
   },
   "outputs": [],
   "source": [
    "# by another column\n",
    "df[\"age_copy\"] = df[\"age\"]"
   ]
  },
  {
   "cell_type": "markdown",
   "id": "d99e07a6-1710-45eb-a60f-3f18c6a00e3b",
   "metadata": {
    "tags": []
   },
   "source": [
    "#### Delete"
   ]
  },
  {
   "cell_type": "code",
   "execution_count": 13,
   "id": "7f8e33fd-2819-4c53-a341-de25978febd0",
   "metadata": {
    "tags": []
   },
   "outputs": [],
   "source": [
    "del df[\"age_copy\"]\n",
    "del df[\"age_new\"]"
   ]
  },
  {
   "cell_type": "markdown",
   "id": "c95b4c26-e91b-4ab9-9689-5b9ed8d89f1e",
   "metadata": {
    "tags": []
   },
   "source": [
    "## 2) Specific rows\n",
    "\n",
    "When specifying rows, there are multiple ways to do it, like basic df [condition] notation, df.iloc [row index, col index] or df.loc[condition, col]. The first one is best perfomance wise, but can't perform all CRUD operations. iloc can be useful at some points, for example when iterating, but i think the most natural way to filter the data is to use df.loc[ ] with the columns named by name.\n",
    "\n",
    "![05_conditional](img/05_conditional.png)\n",
    "\n",
    "<code> df.loc[condition] </code>\n",
    "* condition, index or all (:)\n",
    "* return type depends on amount of columns (1 -> Series, more -> DF)\n",
    "\n",
    "#### Create new row"
   ]
  },
  {
   "cell_type": "code",
   "execution_count": 14,
   "id": "656a091c-5e51-4a5b-90ec-f074daae29bb",
   "metadata": {
    "tags": []
   },
   "outputs": [],
   "source": [
    "# accessing by index to create new row\n",
    "df.loc[11, :] = [11, \"Jadon\", \"Sancho\", 21, 85000000]"
   ]
  },
  {
   "cell_type": "markdown",
   "id": "25cb2cef-8ab5-43ca-b5f4-172b9da8b493",
   "metadata": {
    "tags": []
   },
   "source": [
    "#### Read"
   ]
  },
  {
   "cell_type": "code",
   "execution_count": 15,
   "id": "4308bd98-c645-4b56-91ea-e185ec005dc0",
   "metadata": {
    "tags": []
   },
   "outputs": [],
   "source": [
    "# conditional selection (returns Series - use .values for array of values)\n",
    "subset = df.loc[df[\"age\"] < 23, \"first_name\"]\n",
    "\n",
    "# index selection (all columns -> DataFrame)\n",
    "subset = df.loc[[2, 3, 5], :]"
   ]
  },
  {
   "cell_type": "markdown",
   "id": "64400ed7-a287-42d5-8d7f-b70b1bae99d9",
   "metadata": {
    "tags": []
   },
   "source": [
    "#### Update"
   ]
  },
  {
   "cell_type": "code",
   "execution_count": 16,
   "id": "85229729-a995-4c2a-a589-4328f05dcfba",
   "metadata": {
    "tags": []
   },
   "outputs": [],
   "source": [
    "# updating one value of one row with multiple conditions \n",
    "df.loc[(df[\"age\"] > 23) & (df[\"age\"] < 28), \"value\"] = 91000000\n",
    "\n",
    "# update one value with a list of conditions\n",
    "df.loc[df[\"last_name\"].isin([\"Haaland\", \"Mbappe\"]), \"id\"] = df[\"id\"] + 20"
   ]
  },
  {
   "cell_type": "markdown",
   "id": "fa030b70-8cf1-4321-80f8-2189dcce7e79",
   "metadata": {
    "tags": []
   },
   "source": [
    "#### Delete"
   ]
  },
  {
   "cell_type": "code",
   "execution_count": 17,
   "id": "98752b4e-4123-425c-995e-8b1286446673",
   "metadata": {
    "tags": []
   },
   "outputs": [],
   "source": [
    "# To delete we need to use df.drop combined with df.loc (loc to get the index)\n",
    "df = df.drop(df.loc[df[\"first_name\"] == \"Jadon\"].index)"
   ]
  },
  {
   "cell_type": "markdown",
   "id": "f1c28cd1-b38e-465f-be89-b8a58f7fffcf",
   "metadata": {
    "tags": []
   },
   "source": [
    "# Iteration\n",
    "Before showing how to iterate by columns or by row, i want to note that iterating over a DataFrame isn't optimal. It is better to filter the DataFrame like shown before and use vectoritation with functions, new values etc. Anyway, in some rare cases it is helpful to iterate and thats why im showing it here.\n",
    "\n",
    "## Iterate by column\n",
    "\n",
    "![05_iterate_by_col](img/05_iterate_by_col.png)"
   ]
  },
  {
   "cell_type": "code",
   "execution_count": 10,
   "id": "fe7efa4f-739f-447f-a603-a8cd4eb381e3",
   "metadata": {},
   "outputs": [
    {
     "name": "stdout",
     "output_type": "stream",
     "text": [
      "id [1. 2. 3. 4. 5.]\n",
      "first_name ['Kylian' 'Erling' 'Vinicius' 'Mohamed' 'Harry']\n",
      "last_name ['Mbappe' 'Haaland' 'Junior' 'Salah' 'Kane']\n"
     ]
    }
   ],
   "source": [
    "# shortening df for readability (first 5 rows)\n",
    "df = df.loc[:4, [\"id\", \"first_name\", \"last_name\"]]\n",
    "\n",
    "# returns each column as Series, values can be accessed with .values as an array \n",
    "for key, value in df.iteritems():\n",
    "    print(key, value.values)"
   ]
  },
  {
   "cell_type": "markdown",
   "id": "5d966652-3626-49b4-993d-2e269290a9c2",
   "metadata": {},
   "source": [
    "## Iterate by row\n",
    "\n",
    "![05_iterate_by_row](img/05_iterate_by_row.png)"
   ]
  },
  {
   "cell_type": "code",
   "execution_count": 11,
   "id": "16d6e1c5-97da-4127-85a8-3ccd8b7ad683",
   "metadata": {},
   "outputs": [
    {
     "name": "stdout",
     "output_type": "stream",
     "text": [
      "0 [1.0 'Kylian' 'Mbappe']\n",
      "1 [2.0 'Erling' 'Haaland']\n",
      "2 [3.0 'Vinicius' 'Junior']\n",
      "3 [4.0 'Mohamed' 'Salah']\n",
      "4 [5.0 'Harry' 'Kane']\n"
     ]
    }
   ],
   "source": [
    "# returns each row as Series, values can be accessed with .values as an array \n",
    "for key, value in df.iterrows():\n",
    "    print(key, value.values)"
   ]
  }
 ],
 "metadata": {
  "kernelspec": {
   "display_name": "Python 3",
   "language": "python",
   "name": "python3"
  },
  "language_info": {
   "codemirror_mode": {
    "name": "ipython",
    "version": 3
   },
   "file_extension": ".py",
   "mimetype": "text/x-python",
   "name": "python",
   "nbconvert_exporter": "python",
   "pygments_lexer": "ipython3",
   "version": "3.10.2"
  }
 },
 "nbformat": 4,
 "nbformat_minor": 5
}
