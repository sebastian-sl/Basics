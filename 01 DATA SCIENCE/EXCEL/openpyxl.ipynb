{
 "cells": [
  {
   "cell_type": "code",
   "execution_count": 2,
   "id": "79ae04c5-279c-4e15-88a3-715455e1cebe",
   "metadata": {
    "tags": []
   },
   "outputs": [],
   "source": [
    "import pandas as pd\n",
    "import os\n",
    "import openpyxl\n",
    "\n",
    "fp = os.getcwd() + r\"\\data\\transfermarkt_values.xlsx\""
   ]
  },
  {
   "cell_type": "markdown",
   "id": "3a7365ab-013e-47dd-9aff-da52efb6a2cc",
   "metadata": {
    "tags": []
   },
   "source": [
    "### Loading Workbook and Worksheet"
   ]
  },
  {
   "cell_type": "code",
   "execution_count": 3,
   "id": "2feed244-852b-49cb-b077-6665bb46b557",
   "metadata": {
    "tags": []
   },
   "outputs": [],
   "source": [
    "wb = openpyxl.load_workbook(fp)\n",
    "ws = wb[\"Tabelle1\"]"
   ]
  },
  {
   "cell_type": "markdown",
   "id": "f49c778c-2102-4f3c-89ca-9c265b9c469b",
   "metadata": {
    "tags": []
   },
   "source": [
    "### Manipulate Workbook and Worksheet attributes"
   ]
  },
  {
   "cell_type": "code",
   "execution_count": 4,
   "id": "966d69aa-880d-4517-be19-48dec93c5432",
   "metadata": {},
   "outputs": [
    {
     "name": "stdout",
     "output_type": "stream",
     "text": [
      "['Tabelle1']\n",
      "<openpyxl.packaging.core.DocumentProperties object>\n",
      "Parameters:\n",
      "creator='Sebastian S', title=None, description=None, subject=None, identifier=None, language=None, created=datetime.datetime(2015, 6, 5, 18, 19, 34), modified=datetime.datetime(2022, 4, 6, 15, 39, 13), lastModifiedBy='Sebastian S', category=None, contentStatus=None, version=None, revision=None, keywords=None, lastPrinted=None\n",
      "Tabelle1\n"
     ]
    }
   ],
   "source": [
    "# Get Sheetnames\n",
    "print(wb.sheetnames)\n",
    "\n",
    "# Access Wb Properties\n",
    "print(wb.properties)\n",
    "\n",
    "# Worksheet Title\n",
    "print(ws.title)"
   ]
  },
  {
   "cell_type": "code",
   "execution_count": 5,
   "id": "9e6dec2c-f786-4f52-8416-0b32f1ec3e9e",
   "metadata": {},
   "outputs": [],
   "source": [
    "# Create a new Sheet\n",
    "wb.create_sheet(\"Tabelle2\")\n",
    "\n",
    "# Delete a Sheet\n",
    "wb.remove(wb[\"Tabelle2\"])\n",
    "\n",
    "# Save a sheet\n",
    "wb.save(fp)"
   ]
  },
  {
   "cell_type": "markdown",
   "id": "8d606fd1-8f52-4d3d-9fc5-2744f7b07243",
   "metadata": {},
   "source": [
    "### Manipulate Worksheet data\n",
    "\n",
    "#### Single Values"
   ]
  },
  {
   "cell_type": "code",
   "execution_count": 6,
   "id": "c16086fb-9c9b-4f69-b6f6-7ab1a67629d9",
   "metadata": {},
   "outputs": [
    {
     "name": "stdout",
     "output_type": "stream",
     "text": [
      "Mbappe\n",
      "Mbappe\n"
     ]
    }
   ],
   "source": [
    "# The spreadsheet goes by rows (1-X) and by columns (A-Z or 1-X)\n",
    "\n",
    "val1 = ws[\"C2\"].value\n",
    "print(val1)\n",
    "\n",
    "val2 = ws.cell(2, 3).value\n",
    "print(val2)"
   ]
  },
  {
   "cell_type": "markdown",
   "id": "69c35701-4b3c-4083-a025-609193426dc2",
   "metadata": {},
   "source": [
    "#### Iteration"
   ]
  },
  {
   "cell_type": "code",
   "execution_count": 7,
   "id": "a24c69e0-35b0-48f6-aab1-cfd56ad1b02d",
   "metadata": {},
   "outputs": [
    {
     "name": "stdout",
     "output_type": "stream",
     "text": [
      "['id', 21, 22, 23, 24, 25]\n",
      "['id', 'first_name', 'last_name', 'value']\n"
     ]
    }
   ],
   "source": [
    "# Single Column\n",
    "arr = [cell.value for cell in ws[\"A\"]]\n",
    "print(arr)\n",
    "    \n",
    "# Single Row\n",
    "arr = [cell.value for cell in ws[1]]\n",
    "print(arr)"
   ]
  },
  {
   "cell_type": "code",
   "execution_count": 8,
   "id": "d35d017f-ec69-4674-80d3-f1cc0011e2e6",
   "metadata": {},
   "outputs": [
    {
     "name": "stdout",
     "output_type": "stream",
     "text": [
      "['id', 21, 22, 23, 24, 25]\n",
      "['first_name', 'Kylian', 'Erling', 'Vinicius', 'Mohamed', 'Harry']\n",
      "['last_name', 'Mbappe', 'Haaland', 'Junior', 'Salah', 'Kane']\n",
      "['value', 160000000, 150000000, 100000000, 100000000, 100000000]\n"
     ]
    }
   ],
   "source": [
    "# iterate by columns (all rows/cols)\n",
    "for col in ws.iter_cols():\n",
    "    arr = [cell.value for cell in col]\n",
    "    print(arr)"
   ]
  },
  {
   "cell_type": "code",
   "execution_count": 9,
   "id": "b01f36a1-f54d-4f0a-b5d1-f7a55ac09acf",
   "metadata": {},
   "outputs": [
    {
     "name": "stdout",
     "output_type": "stream",
     "text": [
      "['id', 'first_name', 'last_name', 'value']\n",
      "[21, 'Kylian', 'Mbappe', 160000000]\n",
      "[22, 'Erling', 'Haaland', 150000000]\n",
      "[23, 'Vinicius', 'Junior', 100000000]\n",
      "[24, 'Mohamed', 'Salah', 100000000]\n",
      "[25, 'Harry', 'Kane', 100000000]\n"
     ]
    }
   ],
   "source": [
    "# iterate by rows (all rows/cols)\n",
    "for row in ws.iter_rows():\n",
    "    arr = [cell.value for cell in row]\n",
    "    print(arr)"
   ]
  },
  {
   "cell_type": "code",
   "execution_count": 10,
   "id": "a0840bd0-13eb-442f-883c-83fad6b53d7b",
   "metadata": {},
   "outputs": [
    {
     "name": "stdout",
     "output_type": "stream",
     "text": [
      "id\n",
      "31\n",
      "32\n",
      "33\n",
      "34\n",
      "35\n"
     ]
    }
   ],
   "source": [
    "# Iterate and change \n",
    "for row in ws.iter_rows(min_row = 2):\n",
    "    row[0].value += 10\n",
    "    \n",
    "for cell in ws[\"A\"]:\n",
    "    print(cell.value)"
   ]
  },
  {
   "cell_type": "markdown",
   "id": "086f9c1c-b116-4f5e-a6ca-87f1b4b35b93",
   "metadata": {},
   "source": [
    "#### Charts"
   ]
  },
  {
   "cell_type": "code",
   "execution_count": 11,
   "id": "6c821845-ba0a-459a-bbe3-88f3d3a958e7",
   "metadata": {},
   "outputs": [],
   "source": [
    "from openpyxl.chart import BarChart, Reference\n",
    "\n",
    "# deleting old Charts if exists\n",
    "for i in range(len(ws._charts)):\n",
    "    del ws._charts[i]\n",
    "\n",
    "# Creating Chart\n",
    "chart = BarChart()\n",
    "chart.type = \"col\"\n",
    "chart.style = 10\n",
    "chart.title = \"Bar Chart\"\n",
    "chart.y_axis_title = \"Value\"\n",
    "chart.x_axis_title = \"Player\"\n",
    "\n",
    "# Referencing Data\n",
    "data = Reference(ws, min_col = 4, max_col = 4, min_row = 1,  max_row = 6)\n",
    "cat = Reference(ws, min_col = 3, max_col = 3, min_row = 1, max_row = 6)\n",
    "\n",
    "chart.add_data(data, titles_from_data = True)\n",
    "chart.set_categories(cat)\n",
    "\n",
    "ws.add_chart(chart, \"A10\")\n",
    "\n",
    "wb.save(fp)"
   ]
  },
  {
   "cell_type": "markdown",
   "id": "e1fb94fc-057c-4c14-838c-31f007ac18ff",
   "metadata": {},
   "source": [
    "#### Images"
   ]
  },
  {
   "cell_type": "code",
   "execution_count": 34,
   "id": "ab098050-e540-40b1-b6d8-86ff3b634c77",
   "metadata": {},
   "outputs": [],
   "source": [
    "# creating image\n",
    "import plotly.express as px\n",
    "\n",
    "x = [ws[\"C\"][i].value for i in range(1, len(ws[\"C\"]))]\n",
    "y = [ws[\"D\"][i].value for i in range(1, len(ws[\"D\"]))]\n",
    "\n",
    "fig.write_image(os.getcwd() + r\"\\images\\chart1.png\")\n",
    "\n",
    "# deleting old image if exists\n",
    "for i in range(len(ws._images)):\n",
    "    del ws._images[i]\n",
    "    \n",
    "# import new image\n",
    "img = openpyxl.drawing.image.Image(os.getcwd() + r\"\\images\\chart1.png\")\n",
    "ws.add_image(img, \"A25\")\n",
    "wb.save(fp)"
   ]
  },
  {
   "cell_type": "code",
   "execution_count": null,
   "id": "b23e9f23-8ebc-415a-b5b1-c9b13812dec0",
   "metadata": {},
   "outputs": [],
   "source": []
  }
 ],
 "metadata": {
  "kernelspec": {
   "display_name": "Python 3",
   "language": "python",
   "name": "python3"
  },
  "language_info": {
   "codemirror_mode": {
    "name": "ipython",
    "version": 3
   },
   "file_extension": ".py",
   "mimetype": "text/x-python",
   "name": "python",
   "nbconvert_exporter": "python",
   "pygments_lexer": "ipython3",
   "version": "3.10.2"
  }
 },
 "nbformat": 4,
 "nbformat_minor": 5
}
