{
 "cells": [
  {
   "cell_type": "code",
   "execution_count": 67,
   "id": "79ae04c5-279c-4e15-88a3-715455e1cebe",
   "metadata": {
    "tags": []
   },
   "outputs": [],
   "source": [
    "import pandas as pd\n",
    "import os\n",
    "import openpyxl\n",
    "\n",
    "fp = os.getcwd() + r\"\\transfermarkt_values.xlsx\""
   ]
  },
  {
   "cell_type": "markdown",
   "id": "3a7365ab-013e-47dd-9aff-da52efb6a2cc",
   "metadata": {
    "tags": []
   },
   "source": [
    "### Loading Workbook and Worksheet"
   ]
  },
  {
   "cell_type": "code",
   "execution_count": 68,
   "id": "2feed244-852b-49cb-b077-6665bb46b557",
   "metadata": {
    "tags": []
   },
   "outputs": [],
   "source": [
    "wb = openpyxl.load_workbook(fp)\n",
    "ws = wb[\"Tabelle1\"]"
   ]
  },
  {
   "cell_type": "markdown",
   "id": "f49c778c-2102-4f3c-89ca-9c265b9c469b",
   "metadata": {
    "tags": []
   },
   "source": [
    "### Manipulate Workbook and Worksheet attributes"
   ]
  },
  {
   "cell_type": "code",
   "execution_count": 88,
   "id": "966d69aa-880d-4517-be19-48dec93c5432",
   "metadata": {},
   "outputs": [
    {
     "name": "stdout",
     "output_type": "stream",
     "text": [
      "['Tabelle1']\n",
      "/xl/workbook.xml\n",
      "<openpyxl.packaging.core.DocumentProperties object>\n",
      "Parameters:\n",
      "creator='Sebastian S', title=None, description=None, subject=None, identifier=None, language=None, created=datetime.datetime(2015, 6, 5, 18, 19, 34), modified=datetime.datetime(2022, 4, 3, 20, 31, 2), lastModifiedBy='Sebastian S', category=None, contentStatus=None, version=None, revision=None, keywords=None, lastPrinted=None\n",
      "Tabelle1\n"
     ]
    }
   ],
   "source": [
    "# Get Sheetnames\n",
    "print(wb.sheetnames)\n",
    "\n",
    "# Get Wb Path\n",
    "print(wb.path)\n",
    "\n",
    "# Access Wb Properties\n",
    "print(wb.properties)\n",
    "\n",
    "# Create a new Sheet\n",
    "wb.create_sheet(\"Tabelle2\")\n",
    "\n",
    "# Delete a Sheet\n",
    "wb.remove(wb[\"Tabelle2\"])\n",
    "\n",
    "# Worksheet Title\n",
    "print(ws.title)\n",
    "\n",
    "# Save a sheet\n",
    "wb.save(fp)"
   ]
  },
  {
   "cell_type": "code",
   "execution_count": null,
   "id": "9e6dec2c-f786-4f52-8416-0b32f1ec3e9e",
   "metadata": {},
   "outputs": [],
   "source": []
  },
  {
   "cell_type": "code",
   "execution_count": null,
   "id": "a1adf2d6-2dc4-4012-a7ff-060f87399af0",
   "metadata": {},
   "outputs": [],
   "source": []
  },
  {
   "cell_type": "code",
   "execution_count": null,
   "id": "c16086fb-9c9b-4f69-b6f6-7ab1a67629d9",
   "metadata": {},
   "outputs": [],
   "source": []
  }
 ],
 "metadata": {
  "kernelspec": {
   "display_name": "Python 3",
   "language": "python",
   "name": "python3"
  },
  "language_info": {
   "codemirror_mode": {
    "name": "ipython",
    "version": 3
   },
   "file_extension": ".py",
   "mimetype": "text/x-python",
   "name": "python",
   "nbconvert_exporter": "python",
   "pygments_lexer": "ipython3",
   "version": "3.10.2"
  }
 },
 "nbformat": 4,
 "nbformat_minor": 5
}
