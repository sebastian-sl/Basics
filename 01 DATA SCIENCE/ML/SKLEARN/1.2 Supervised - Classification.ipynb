{
 "cells": [
  {
   "cell_type": "code",
   "execution_count": 1,
   "id": "66f7d338-2f75-4075-b26a-9779b4b75289",
   "metadata": {},
   "outputs": [],
   "source": [
    "import pandas as pd\n",
    "import numpy as np\n",
    "import matplotlib.pyplot as plt\n",
    "import warnings\n",
    "\n",
    "warnings.filterwarnings('ignore')\n",
    "plt.style.use(\"ggplot\")"
   ]
  },
  {
   "cell_type": "markdown",
   "id": "42da82ae-feb7-45a8-b2ac-74fb7dd55f00",
   "metadata": {},
   "source": [
    "# Creating sample data\n",
    "We create sample data with test results for different ages and heights."
   ]
  },
  {
   "cell_type": "code",
   "execution_count": 12,
   "id": "d7fc2b4a-59cb-4e35-b5bd-d0baaba6497f",
   "metadata": {},
   "outputs": [],
   "source": [
    "df = pd.DataFrame({\n",
    "    \"age\": [25, 28, 31, 49, 25, 51, 58, 71, 25, 21],\n",
    "    \"height\": [168, 173, 199, 183, 151, 165, 188, 189, 190, 165],\n",
    "    \"result\": [0, 0, 1, 0, 0, 1, 1, 1, 0, 1]\n",
    "})\n",
    "\n",
    "x = df[\"height\"].copy()\n",
    "y = df[\"result\"].copy()\n",
    "\n",
    "X = np.array(x).reshape(-1, 1)\n",
    "Y = np.array(y).reshape(-1,1)\n",
    "\n",
    "prediction = [160 + number for number in range(41)]\n",
    "Prediction = np.array(prediction).reshape(-1, 1)"
   ]
  },
  {
   "cell_type": "markdown",
   "id": "d5ec9dfe-5534-4984-90aa-0b186924d599",
   "metadata": {},
   "source": [
    "# Logistic Regression"
   ]
  },
  {
   "cell_type": "code",
   "execution_count": 20,
   "id": "17e13b53-d88c-4880-9149-516d9753b1c6",
   "metadata": {},
   "outputs": [
    {
     "data": {
      "image/png": "[encoded data removed]",
      "text/plain": [
       "<Figure size 432x288 with 1 Axes>"
      ]
     },
     "metadata": {},
     "output_type": "display_data"
    }
   ],
   "source": [
    "from sklearn.linear_model import LogisticRegression\n",
    "\n",
    "lr = LogisticRegression()\n",
    "lr.fit(X, Y)\n",
    "\n",
    "plt.scatter(x, y, color = \"blue\")\n",
    "plt.plot(prediction, lr.predict(Prediction));"
   ]
  },
  {
   "cell_type": "code",
   "execution_count": null,
   "id": "208aafe7-d3e7-43e6-a5b2-befd4076d663",
   "metadata": {},
   "outputs": [],
   "source": []
  }
 ],
 "metadata": {
  "kernelspec": {
   "display_name": "Python 3",
   "language": "python",
   "name": "python3"
  },
  "language_info": {
   "codemirror_mode": {
    "name": "ipython",
    "version": 3
   },
   "file_extension": ".py",
   "mimetype": "text/x-python",
   "name": "python",
   "nbconvert_exporter": "python",
   "pygments_lexer": "ipython3",
   "version": "3.10.2"
  }
 },
 "nbformat": 4,
 "nbformat_minor": 5
}
