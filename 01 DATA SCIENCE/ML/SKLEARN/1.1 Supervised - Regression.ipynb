{
 "cells": [
  {
   "cell_type": "code",
   "execution_count": 1,
   "id": "1b4a7b3e-bd14-4de8-a603-248aea21391c",
   "metadata": {
    "tags": []
   },
   "outputs": [],
   "source": [
    "import pandas as pd\n",
    "import numpy as np\n",
    "import matplotlib.pyplot as plt\n",
    "import warnings\n",
    "\n",
    "\n",
    "warnings.filterwarnings('ignore')\n",
    "plt.style.use(\"ggplot\")"
   ]
  },
  {
   "cell_type": "markdown",
   "id": "09f88792-53ac-4f4c-84ae-72e49e330867",
   "metadata": {
    "tags": []
   },
   "source": [
    "# Creating sample data\n",
    "We create sample data with years (2010 - 2020), sales data and create another arrays where we can use our model on."
   ]
  },
  {
   "cell_type": "code",
   "execution_count": 29,
   "id": "5403db62-5225-49e3-aa0d-0d383ac3e14e",
   "metadata": {
    "tags": []
   },
   "outputs": [
    {
     "data": {
      "text/plain": [
       "[2010, 2011, 2012, 2013, 2014, 2015, 2016, 2017, 2018, 2019, 2020]"
      ]
     },
     "execution_count": 29,
     "metadata": {},
     "output_type": "execute_result"
    }
   ],
   "source": [
    "years = [2010, 2011, 2012, 2013, 2014, 2015, 2016, 2017, 2018, 2019, 2020]\n",
    "\n",
    "sales = [2000, 2250, 2800, 2850, 3542, 3707, 5556, 8544, 8555, 9100, 12000]\n",
    "\n",
    "prediction = [2010, 2011, 2012, 2013, 2014, 2015, 2016, 2017, 2018, 2019, 2020, 2021, 2022, 2023, 2024, 2025, 2026, 2027, 2028, 2029, 2030] \n",
    "\n",
    "years"
   ]
  },
  {
   "cell_type": "markdown",
   "id": "5f87dcbf-7395-4548-8821-69a7f092ac25",
   "metadata": {},
   "source": [
    "#### Currently all arrays are 1-dimensional Arrays, but Sklearn expects 2-d Arrays when building a model."
   ]
  },
  {
   "cell_type": "code",
   "execution_count": 31,
   "id": "402999cd-bd61-45a9-a614-f70ce5b4ff6f",
   "metadata": {
    "tags": []
   },
   "outputs": [
    {
     "data": {
      "text/plain": [
       "[2010, 2011, 2012, 2013, 2014, 2015, 2016, 2017, 2018, 2019, 2020]"
      ]
     },
     "execution_count": 31,
     "metadata": {},
     "output_type": "execute_result"
    }
   ],
   "source": [
    "np_years = np.array(years).reshape(-1, 1)\n",
    "\n",
    "np_sales = np.array(sales).reshape(-1, 1)\n",
    "\n",
    "np_prediction = np.array(prediction).reshape(-1, 1)\n",
    "\n",
    "years"
   ]
  },
  {
   "cell_type": "markdown",
   "id": "d5f0163c-0702-4539-9a1e-6df4e07db7d7",
   "metadata": {
    "tags": []
   },
   "source": [
    "# Linear Regression"
   ]
  },
  {
   "cell_type": "code",
   "execution_count": 34,
   "id": "8790a0b6-bdf2-4195-8b95-75ff2a08b8da",
   "metadata": {
    "tags": []
   },
   "outputs": [
    {
     "data": {
      "image/png": "[encoded data removed]",
      "text/plain": [
       "<Figure size 432x288 with 1 Axes>"
      ]
     },
     "metadata": {},
     "output_type": "display_data"
    }
   ],
   "source": [
    "# plotting\n",
    "from sklearn.linear_model import LinearRegression\n",
    "\n",
    "lr = LinearRegression()\n",
    "lr.fit(np_years, np_sales)\n",
    "\n",
    "plt.scatter(years, sales, color = \"blue\")\n",
    "plt.plot(prediction, lr.predict(np_prediction));"
   ]
  },
  {
   "cell_type": "code",
   "execution_count": 40,
   "id": "daf6f858-18df-4e9a-bd86-f8c79889d434",
   "metadata": {
    "tags": []
   },
   "outputs": [
    {
     "name": "stdout",
     "output_type": "stream",
     "text": [
      "Prediction for year 2010: 624 - Real Value: 2000\n",
      "Prediction for year 2015: 5536 - Real Value: 3707\n",
      "Prediction for year 2020: 10448 - Real Value: 12000\n",
      "Prediction for year 2025: 15361\n",
      "Prediction for year 2030: 20273\n"
     ]
    }
   ],
   "source": [
    "# comparing predictions\n",
    "for number in [2010, 2015, 2020, 2025, 2030]:\n",
    "    val = lr.predict(np.array(number).reshape(-1, 1))[0]\n",
    "    \n",
    "    if number in years:\n",
    "        real_val = sales[years.index(number)]\n",
    "        \n",
    "        print(f\"Prediction for year {number}: {int(val)} - Real Value: {real_val}\")\n",
    "    else:\n",
    "        print(f\"Prediction for year {number}: {int(val)}\")"
   ]
  },
  {
   "cell_type": "code",
   "execution_count": 3,
   "id": "27db4edd-babf-46d0-af8f-56cb06424c79",
   "metadata": {
    "tags": []
   },
   "outputs": [],
   "source": []
  },
  {
   "cell_type": "code",
   "execution_count": null,
   "id": "90de405d-e24e-4acb-9e70-8db520d21777",
   "metadata": {},
   "outputs": [],
   "source": []
  },
  {
   "cell_type": "code",
   "execution_count": null,
   "id": "0829bab3-aa96-4958-9598-dc590219c23f",
   "metadata": {},
   "outputs": [],
   "source": []
  }
 ],
 "metadata": {
  "kernelspec": {
   "display_name": "Python 3",
   "language": "python",
   "name": "python3"
  },
  "language_info": {
   "codemirror_mode": {
    "name": "ipython",
    "version": 3
   },
   "file_extension": ".py",
   "mimetype": "text/x-python",
   "name": "python",
   "nbconvert_exporter": "python",
   "pygments_lexer": "ipython3",
   "version": "3.10.2"
  }
 },
 "nbformat": 4,
 "nbformat_minor": 5
}
